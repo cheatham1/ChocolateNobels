{
 "cells": [
  {
   "cell_type": "markdown",
   "metadata": {},
   "source": [
    "## Chocolate Consumption, Cognitive Function, and Nobel Laureates\n",
    "\n",
    "\"Chocolate consumption could hypothetically improve cognitive function not only in individuals but in whole populations. Could there be a correlation between a country's level of chocolate consumption and its total number of Nobel laureates per capita?\"\n",
    "\n",
    "http://www.nejm.org/doi/full/10.1056/NEJMon1211064\n"
   ]
  },
  {
   "cell_type": "code",
   "execution_count": null,
   "metadata": {
    "collapsed": true
   },
   "outputs": [],
   "source": [
    "# Inspired by article, statistics taken from Wikipedia for 2017 and comma separated file created \n",
    "file = \"Data/ChocNobels2017small.csv\"\n",
    "\n",
    "# The Swedish scientist Alfred Nobel established the prizes in 1895. \n",
    "# There are six categories for nobel prizes awarded ~each year:\n",
    "# Physics, chemistry, physiology or medicine, literature, peace, economic sciences"
   ]
  },
  {
   "cell_type": "code",
   "execution_count": null,
   "metadata": {
    "collapsed": true
   },
   "outputs": [],
   "source": [
    "# Pandas is an open source library providing easy-to-use data structures and data analysis tools for Python.\n",
    "# Import library\n",
    "import pandas as pd\n",
    "\n",
    "# Import plotting library from matplotlib\n",
    "import matplotlib.pyplot as plt"
   ]
  },
  {
   "cell_type": "code",
   "execution_count": null,
   "metadata": {
    "collapsed": true
   },
   "outputs": [],
   "source": [
    "# Read the data from file of comma separted values(csv)\n",
    "data = pd.read_csv(file)"
   ]
  },
  {
   "cell_type": "code",
   "execution_count": null,
   "metadata": {},
   "outputs": [],
   "source": [
    "# Look at the data\n",
    "data"
   ]
  },
  {
   "cell_type": "code",
   "execution_count": null,
   "metadata": {},
   "outputs": [],
   "source": [
    "# Look at first 5 values (head of file)\n",
    "data.head()"
   ]
  },
  {
   "cell_type": "code",
   "execution_count": null,
   "metadata": {},
   "outputs": [],
   "source": [
    "# Look at last 5 values (tail of file)\n",
    "data.tail()"
   ]
  },
  {
   "cell_type": "code",
   "execution_count": null,
   "metadata": {},
   "outputs": [],
   "source": [
    "# Summary of data\n",
    "data.info()"
   ]
  },
  {
   "cell_type": "code",
   "execution_count": null,
   "metadata": {
    "collapsed": true
   },
   "outputs": [],
   "source": [
    "# Set country as index\n",
    "data.set_index('Country', inplace=True)"
   ]
  },
  {
   "cell_type": "code",
   "execution_count": null,
   "metadata": {},
   "outputs": [],
   "source": [
    "# Look again at head of data to see change in index\n",
    "data.head()"
   ]
  },
  {
   "cell_type": "code",
   "execution_count": null,
   "metadata": {
    "collapsed": true
   },
   "outputs": [],
   "source": [
    "# Rename column headings to easier names\n",
    "data.columns = ['Population','Chocolate','Nobels']"
   ]
  },
  {
   "cell_type": "code",
   "execution_count": null,
   "metadata": {},
   "outputs": [],
   "source": [
    "data.head()"
   ]
  },
  {
   "cell_type": "code",
   "execution_count": null,
   "metadata": {
    "collapsed": true
   },
   "outputs": [],
   "source": [
    "# There are numerous libraries for plotting and data visualisation\n",
    "# Inline means your matplotlib graphs will be included in your notebook\n",
    "%matplotlib inline\n",
    "# runtime configuration (rc) parameters allow customization\n",
    "from matplotlib import rcParams\n",
    "rcParams['figure.figsize'] = 12, 6"
   ]
  },
  {
   "cell_type": "code",
   "execution_count": null,
   "metadata": {
    "collapsed": true
   },
   "outputs": [],
   "source": [
    "nobels = data['Nobels']"
   ]
  },
  {
   "cell_type": "code",
   "execution_count": null,
   "metadata": {},
   "outputs": [],
   "source": [
    "# Plot the nobel laureates per country\n",
    "nobels.plot()"
   ]
  },
  {
   "cell_type": "code",
   "execution_count": null,
   "metadata": {},
   "outputs": [],
   "source": [
    "# Bar graph more appropriate in this case for distinct values\n",
    "nobels.plot(kind='bar')"
   ]
  },
  {
   "cell_type": "code",
   "execution_count": null,
   "metadata": {},
   "outputs": [],
   "source": [
    "# Redraw plot this time with title and single colour\n",
    "nobels.plot(kind = 'bar', \n",
    "            title = 'Nobel Laureates per Country', \n",
    "            color = 'orange')"
   ]
  },
  {
   "cell_type": "code",
   "execution_count": null,
   "metadata": {},
   "outputs": [],
   "source": [
    "# This time give the plot a name\n",
    "bar_plot_nobels = nobels.plot.bar(color = 'orange')\n",
    "\n",
    "# Add axis label and title\n",
    "bar_plot_nobels.set_title('Nobel Laureates per Country')\n",
    "bar_plot_nobels.set_ylabel('Nobel laureates per 10 million population')"
   ]
  },
  {
   "cell_type": "code",
   "execution_count": null,
   "metadata": {},
   "outputs": [],
   "source": [
    "# Sort data\n",
    "data_sort_nobels = data.sort_values(['Nobels'], ascending=[False])\n",
    "data_sort_nobels"
   ]
  },
  {
   "cell_type": "code",
   "execution_count": null,
   "metadata": {},
   "outputs": [],
   "source": [
    "# Horizontal bar plot using barh\n",
    "sorted_nobels = data_sort_nobels['Nobels']\n",
    "barh_plot_nobels = sorted_nobels.plot.barh(color = 'orange')"
   ]
  },
  {
   "cell_type": "code",
   "execution_count": null,
   "metadata": {},
   "outputs": [],
   "source": [
    "# font size\n",
    "fsize = 15\n",
    "# Bar plot\n",
    "bar_plot_nobels = sorted_nobels.plot.bar(color = 'orange')\n",
    "\n",
    "bar_plot_nobels.set_title('Nobel Laureates per Country', fontsize=fsize+10)\n",
    "bar_plot_nobels.set_ylabel('Nobel laureates per 10 million population', fontsize=fsize)"
   ]
  },
  {
   "cell_type": "code",
   "execution_count": null,
   "metadata": {},
   "outputs": [],
   "source": [
    "# Let's look at our other variable\n",
    "chocolate = data['Chocolate']\n",
    "\n",
    "bar_plot_choc = chocolate.plot.bar(color = 'darkblue')\n",
    "\n",
    "bar_plot_choc.set_title('Chocolate consumption per country', fontsize=fsize+5)\n",
    "bar_plot_choc.set_ylabel('Chocolate consumption (kg/year/capita)', fontsize=fsize)\n"
   ]
  },
  {
   "cell_type": "code",
   "execution_count": null,
   "metadata": {},
   "outputs": [],
   "source": [
    "chocolate"
   ]
  },
  {
   "cell_type": "code",
   "execution_count": null,
   "metadata": {},
   "outputs": [],
   "source": [
    "# The first row in the data has an index = 0\n",
    "chocolate.index[0]"
   ]
  },
  {
   "cell_type": "code",
   "execution_count": null,
   "metadata": {},
   "outputs": [],
   "source": [
    "# The fourth row in the data has an index = 3\n",
    "chocolate.index[3]"
   ]
  },
  {
   "cell_type": "code",
   "execution_count": null,
   "metadata": {},
   "outputs": [],
   "source": [
    "plt.bar(chocolate.index,chocolate, color=\"darkblue\")\n",
    "\n",
    "plt.xlabel('Country', fontsize=fsize)\n",
    "plt.ylabel('Chocolate consumption (kg/year/capita)', fontsize=fsize)\n",
    "plt.title('Chocolate Consumption for different countries', fontsize=fsize+8)\n",
    "\n",
    "# country names are the ticks on the x-axis\n",
    "rcParams['xtick.labelsize'] = fsize\n",
    "plt.xticks(rotation=70)\n",
    "\n",
    "# to ensure axes labels fit area of plot\n",
    "plt.tight_layout()\n",
    "\n",
    "plt.savefig(\"Chocolate.png\")\n",
    "plt.show()\n"
   ]
  },
  {
   "cell_type": "code",
   "execution_count": null,
   "metadata": {},
   "outputs": [],
   "source": [
    "plt.bar(nobels.index, nobels, color=\"orange\")\n",
    "\n",
    "plt.xlabel('Country', fontsize=fsize)\n",
    "plt.ylabel('Nobel Laureates per 10 million population', fontsize=fsize)\n",
    "plt.title('Number of Nobel Laureates from different countries per 10 million population', fontsize=fsize+3)\n",
    "plt.xticks(rotation=70)\n",
    "\n",
    "# to ensure axes labels fit\n",
    "plt.tight_layout()\n",
    "\n",
    "plt.savefig(\"Nobels.png\")\n",
    "plt.show()\n"
   ]
  },
  {
   "cell_type": "code",
   "execution_count": null,
   "metadata": {},
   "outputs": [],
   "source": [
    "# Scatter plot of Chocolate Consumption vs Nobel Laureates\n",
    "plt.scatter(chocolate, nobels)\n",
    "plt.ylabel('Nobel laureates per 10 million population')\n",
    "plt.xlabel('Chocolate consumption (kg/year/capita)')\n",
    "plt.title('Chocolate Consumption vs Nobel Laureates', fontsize=14)\n",
    "\n",
    "plt.show()"
   ]
  },
  {
   "cell_type": "code",
   "execution_count": null,
   "metadata": {
    "collapsed": true
   },
   "outputs": [],
   "source": []
  },
  {
   "cell_type": "code",
   "execution_count": null,
   "metadata": {},
   "outputs": [],
   "source": [
    "# Already defined variables\n",
    "# nobels = data['Nobels']\n",
    "# chocolate = data['Chocolate']\n",
    "\n",
    "# Iterate over data and print out values\n",
    "number_entries = len(data)\n",
    "for i in range(number_entries):\n",
    "    print(data.index[i], nobels[i], chocolate[i])"
   ]
  },
  {
   "cell_type": "code",
   "execution_count": null,
   "metadata": {},
   "outputs": [],
   "source": [
    "# Label axes and define title\n",
    "plt.scatter(chocolate, nobels)\n",
    "plt.ylabel('Nobel laureates per 10 million population')\n",
    "plt.xlabel('Chocolate consumption (kg/year/capita)')\n",
    "plt.title('Chocolate Consumption vs Nobel Laureates', fontsize=14)\n",
    "\n",
    "number_entries = len(data)\n",
    "for i in range(number_entries):\n",
    "    country = data.index[i]\n",
    "    x = chocolate[i]\n",
    "    y = nobels[i]\n",
    "    plt.annotate(country, xy=(x,y),xytext=(x,y))\n",
    "\n",
    "plt.show()"
   ]
  },
  {
   "cell_type": "code",
   "execution_count": null,
   "metadata": {},
   "outputs": [],
   "source": [
    "# Label axes and define title\n",
    "plt.scatter(chocolate, nobels, color='green', edgecolor='darkblue')\n",
    "plt.ylabel('Nobel laureates per 10 million population')\n",
    "plt.xlabel('Chocolate consumption (kg/year/capita)')\n",
    "plt.title('Chocolate Consumption vs Nobel Laureates', fontsize=14)\n",
    "\n",
    "for i in range(number_entries):\n",
    "    country = data.index[i]\n",
    "    x = chocolate[i]\n",
    "    y = nobels[i]\n",
    "\n",
    "    # Address individual cases where text overlaps\n",
    "    offset = 0.1\n",
    "    xtext = x + offset\n",
    "    ytext = y\n",
    "    if (country =='France'or country =='Netherlands' or country =='Norway'):\n",
    "        ytext = y+1\n",
    "    if (country =='Austria' or country =='USA' or country =='Finland'):\n",
    "        ytext = y-1\n",
    "    \n",
    "    plt.annotate(country, xy=(x,y),xytext=(xtext,ytext))\n",
    "    #print (country, ' ', x, ' ',y)\n",
    "    \n",
    "plt.show()"
   ]
  },
  {
   "cell_type": "code",
   "execution_count": null,
   "metadata": {},
   "outputs": [],
   "source": [
    "# Make some asthetic improvements\n",
    "# Increase size of figure\n",
    "rcParams['figure.figsize'] = 15, 8\n",
    "\n",
    "# Set axes max and min values\n",
    "plt.axis([0, 12, -1, 35])    \n",
    "\n",
    "# Increase size of marker\n",
    "plt.scatter(chocolate, nobels, color='green', edgecolor='darkblue', s=100)\n",
    "\n",
    "plt.ylabel('Nobel laureates per 10 million population', )\n",
    "plt.xlabel('Chocolate consumption (kg/year/capita)', fontsize=14)\n",
    "plt.title('Nobel Laureates vs Chocolate Consumption', fontsize=18)\n",
    "\n",
    "# Iterate over data to label each point with country name\n",
    "for ind in data.index:\n",
    "    x = data['Chocolate'][ind]\n",
    "    y = data['Nobels'][ind]\n",
    "    \n",
    "    # Individual cases where text overlaps\n",
    "    ytext=y\n",
    "    if (ind=='France'or ind=='Netherlands' or ind=='Norway'):\n",
    "        ytext = y+1\n",
    "    if (ind=='Austria' or ind =='USA'):\n",
    "        ytext = y-1\n",
    "    \n",
    "    plt.annotate(ind, xy=(x,y),xytext=(x+0.1,ytext))\n",
    "    \n",
    "plt.show()"
   ]
  },
  {
   "cell_type": "code",
   "execution_count": null,
   "metadata": {},
   "outputs": [],
   "source": [
    "# Add regression line\n",
    "print('R-squared is a statistical measure of how close the data are to the fitted regression line.')\n",
    "print('A statistically significant result is one where the observed p-value is less than 5%\\n')      \n",
    "\n",
    "from scipy import stats\n",
    "import numpy as np\n",
    "\n",
    "plt.scatter(chocolate, nobels, color='darkgreen', edgecolor='lightgreen', s=100)\n",
    "\n",
    "slope, intercept, r_value, p_value, std_err = stats.linregress(chocolate, nobels)\n",
    "\n",
    "print('R-squared value=',r_value, \" p value=\", p_value)\n",
    "\n",
    "if p_value < 0.05: print('Statistically significant result!!!')\n",
    "\n",
    "plt.plot(chocolate, intercept + slope*chocolate, 'r', label='fit', color = 'darkgreen')\n",
    "\n",
    "\n",
    "plt.ylabel('Nobel laureates per 10 million population', fontsize=14)\n",
    "plt.xlabel('Chocolate consumption (kg/year/capita)', fontsize=14)\n",
    "plt.title('Nobel Laureates vs Chocolate Consumption', fontsize=18)\n",
    "\n",
    "# Iterate over data to label each point with country name\n",
    "for ind in data.index:\n",
    "    x = data['Chocolate'][ind]\n",
    "    y = data['Nobels'][ind]\n",
    "    \n",
    "    # Individual cases where text overlaps\n",
    "    ytext=y\n",
    "    if (ind=='France'or ind=='Netherlands' or ind=='Norway'):\n",
    "        ytext = y+1\n",
    "    if (ind=='Austria' or ind =='USA'):\n",
    "        ytext = y-1\n",
    "    \n",
    "    plt.annotate(ind, xy=(x,y),xytext=(x+0.1,ytext))\n",
    "    \n",
    "plt.savefig(\"ChocolateNobels.png\")\n",
    "\n",
    "plt.show()"
   ]
  },
  {
   "cell_type": "code",
   "execution_count": null,
   "metadata": {},
   "outputs": [],
   "source": [
    "# Use seaborn. Python visualization library based on matplotlib. \n",
    "# It provides a high-level interface for drawing attractive statistical graphics.\n",
    "# You may have to ! pip install Seaborn\n",
    "import seaborn as sb\n",
    "sb.set_style('whitegrid')\n",
    "\n",
    "# Set axes max and min values\n",
    "plt.axis([0, 12, -1, 35])    \n",
    "\n",
    "# Regplot: plot data and a linear regression model fit (confidence interval around sample mean)\n",
    "sb.regplot(chocolate, nobels, color = 'red')\n",
    "\n",
    "plt.ylabel('Nobel laureates per 10 million population', fontsize=14)\n",
    "plt.xlabel('Chocolate consumption (kg/year/capita)', fontsize=14)\n",
    "plt.title('Nobel Laureates vs Chocolate Consumption', fontsize=18)\n",
    "\n",
    "# Iterate over data to label each point with country name\n",
    "for ind in data.index:\n",
    "    x = data['Chocolate'][ind]\n",
    "    y = data['Nobels'][ind]\n",
    "    \n",
    "    # Individual cases where text overlaps\n",
    "    ytext=y\n",
    "    if (ind=='France'or ind=='The Netherlands' or ind=='Norway'):\n",
    "        ytext = y+1\n",
    "    if (ind=='Austria' or ind =='USA'):\n",
    "        ytext = y-1\n",
    "    \n",
    "    plt.annotate(ind, xy=(x,y),xytext=(x+0.1,ytext))\n",
    "    \n",
    "plt.savefig(\"ChocNobels\")    \n",
    "plt.show()\n"
   ]
  },
  {
   "cell_type": "code",
   "execution_count": null,
   "metadata": {
    "collapsed": true
   },
   "outputs": [],
   "source": []
  }
 ],
 "metadata": {
  "kernelspec": {
   "display_name": "Python 3",
   "language": "python",
   "name": "python3"
  },
  "language_info": {
   "codemirror_mode": {
    "name": "ipython",
    "version": 3
   },
   "file_extension": ".py",
   "mimetype": "text/x-python",
   "name": "python",
   "nbconvert_exporter": "python",
   "pygments_lexer": "ipython3",
   "version": "3.6.8"
  }
 },
 "nbformat": 4,
 "nbformat_minor": 2
}
